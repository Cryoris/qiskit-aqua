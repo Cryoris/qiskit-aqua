{
 "cells": [
  {
   "cell_type": "markdown",
   "metadata": {
    "slideshow": {
     "slide_type": "slide"
    }
   },
   "source": [
    "# Ansatz Design Doc\n",
    "\n",
    "Discussion: January 8th, 2020 <br>\n",
    "Author: Julien Gacon"
   ]
  },
  {
   "cell_type": "markdown",
   "metadata": {
    "slideshow": {
     "slide_type": "slide"
    }
   },
   "source": [
    "# Overview\n",
    "\n",
    "1. [Motivation](#motivation)\n",
    "1. [User benefit](#benefit)\n",
    "1. [Proposed structure](#structure)\n",
    "1. [Implementation](#implementation)\n",
    "    1. [The `Ansatz` object](#ansatz)\n",
    "    1. [Variational forms](#varforms)\n",
    "    1. [Feature maps](#featmaps)\n",
    "    1. Others"
   ]
  },
  {
   "cell_type": "markdown",
   "metadata": {
    "slideshow": {
     "slide_type": "slide"
    }
   },
   "source": [
    "# Motivation<a id=\"motivation\"></a>"
   ]
  },
  {
   "cell_type": "markdown",
   "metadata": {
    "slideshow": {
     "slide_type": "slide"
    }
   },
   "source": [
    "## Creating a new variational form\n",
    "\n",
    "Currently, creating a new variational form class requires a lot of copy+paste. \n",
    "\n",
    "Remember: `RYRZ` has all of that, too!"
   ]
  },
  {
   "cell_type": "code",
   "execution_count": null,
   "metadata": {
    "slideshow": {
     "slide_type": "fragment"
    }
   },
   "outputs": [],
   "source": [
    "class RY(VariationalForm):\n",
    "    \"\"\"Layers of Y rotations followed by entangling gates.\"\"\"\n",
    "\n",
    "    def __init__(self, num_qubits, depth=3, entangler_map=None, entanglement='full', initial_state=None,\n",
    "                 entanglement_gate='cz', skip_unentangled_qubits=False, skip_final_ry=False):\n",
    "        self.validate(locals())\n",
    "        super().__init__()\n",
    "        \"\"\" 30 more lines ... \"\"\"\n",
    "        self._bounds = [(-np.pi, np.pi)] * self._num_parameters\n",
    "        self._support_parameterized_circuit = True\n",
    "\n",
    "    def construct_circuit(self, parameters, q=None):\n",
    "        if len(parameters) != self._num_parameters:\n",
    "            raise ValueError('The number of parameters has to be {}'.format(self._num_parameters))\n",
    "        \"\"\" 39 more lines ... \"\"\"\n",
    "        return circuit"
   ]
  },
  {
   "cell_type": "markdown",
   "metadata": {
    "slideshow": {
     "slide_type": "slide"
    }
   },
   "source": [
    "Setting up a new variational form should be quick and easy, more like:"
   ]
  },
  {
   "cell_type": "code",
   "execution_count": null,
   "metadata": {
    "slideshow": {
     "slide_type": "fragment"
    }
   },
   "outputs": [],
   "source": [
    "class RY(TwoQubitAnsatz):\n",
    "    def __init__(self, ...):\n",
    "        super.__init__(single_qubit_gate='ry', ...)"
   ]
  },
  {
   "cell_type": "markdown",
   "metadata": {
    "slideshow": {
     "slide_type": "slide"
    }
   },
   "source": [
    "If a user wants to quickly try a new format, it would convenient to set up the variational form in just a single line. Not all ideas must become a complete, new class."
   ]
  },
  {
   "cell_type": "code",
   "execution_count": null,
   "metadata": {
    "slideshow": {
     "slide_type": "fragment"
    }
   },
   "outputs": [],
   "source": [
    "rxrycx = MultiQubitAnsatz(num_qubits, single_qubit_gate=['rx', 'ry'], two_qubit_gate='cx', depth=4)"
   ]
  },
  {
   "cell_type": "markdown",
   "metadata": {
    "slideshow": {
     "slide_type": "slide"
    }
   },
   "source": [
    "## Adding and inserting layers\n",
    "\n",
    "The circuits that current variational forms build are not extensible. For algorithms, such as adaptive VQE, adding new layers to the variational forms is necessary. "
   ]
  },
  {
   "cell_type": "code",
   "execution_count": null,
   "metadata": {
    "slideshow": {
     "slide_type": "fragment"
    }
   },
   "outputs": [],
   "source": [
    "varform.add(additional_gate, qubit_indices)  # add `additional_gate` at `qubit_indices`"
   ]
  },
  {
   "cell_type": "markdown",
   "metadata": {
    "slideshow": {
     "slide_type": "fragment"
    }
   },
   "source": [
    "Other applications require the insertion of a new gate or layer not at the end of the variational form but somewhere in the middle. The position could e.g. be handled by the appearance of a certain `Parameter` instance."
   ]
  },
  {
   "cell_type": "markdown",
   "metadata": {
    "slideshow": {
     "slide_type": "subslide"
    }
   },
   "source": [
    "This can be used for the calculation of analytic gradients. By inserting a set of Paulis after a parameter and controlling the operation on an ancilla, we can compute the gradient with respect to that parameter (see [this paper](https://arxiv.org/pdf/1701.01450.pdf))."
   ]
  },
  {
   "cell_type": "code",
   "execution_count": null,
   "metadata": {
    "slideshow": {
     "slide_type": "fragment"
    }
   },
   "outputs": [],
   "source": [
    "target_param = Parameter('θ')  # this variable is also used in the circuit \n",
    "varform.insert(target_param, instr_to_insert, qubit_indices)"
   ]
  },
  {
   "cell_type": "markdown",
   "metadata": {
    "slideshow": {
     "slide_type": "notes"
    }
   },
   "source": [
    "The insertion might be difficult to implement, what would the `position` be? This feature might be too specific and implementation of special cases may be left up to the users."
   ]
  },
  {
   "cell_type": "markdown",
   "metadata": {
    "slideshow": {
     "slide_type": "slide"
    }
   },
   "source": [
    "## Combining variational forms\n",
    "\n",
    "A variational form is essentially a gate preparing a parameterized state. For chemistry, this could be the preparation of certain excitation. If we want multiple excitations, we should be able to just combine the respective variational forms."
   ]
  },
  {
   "cell_type": "code",
   "execution_count": null,
   "metadata": {
    "slideshow": {
     "slide_type": "fragment"
    }
   },
   "outputs": [],
   "source": [
    "S0, S1 = single_excitation('θ0'), single_excitation('θ1')\n",
    "D = double_excitation('θ2')\n",
    "UCCSD = S0 + S1 + D"
   ]
  },
  {
   "cell_type": "markdown",
   "metadata": {
    "slideshow": {
     "slide_type": "fragment"
    }
   },
   "source": [
    "If some variational forms prepare subsystems, they should be able to be combined at certain qubit indices."
   ]
  },
  {
   "cell_type": "code",
   "execution_count": null,
   "metadata": {
    "slideshow": {
     "slide_type": "fragment"
    }
   },
   "outputs": [],
   "source": [
    "varform = sub_varform.append(other_varform, indices)"
   ]
  },
  {
   "cell_type": "markdown",
   "metadata": {
    "slideshow": {
     "slide_type": "notes"
    }
   },
   "source": [
    "Possibly allow only `combine` and not `__add__`, since this is dangerously close to `add(new_layer)` and might result in confusion of what types can be added."
   ]
  },
  {
   "cell_type": "markdown",
   "metadata": {
    "slideshow": {
     "slide_type": "slide"
    }
   },
   "source": [
    "## DIY: special variational forms\n",
    "\n",
    "Variational forms can be very diverse and for special problems, special structures may perform better than others. Therefore, users should be able to their own Ansaetze as variable as possible.\n",
    "For this we can support automatic repetition (with correct setting of the parameters).\n",
    "\n",
    "![Automatic repetition](ansatz_rep.jpg)\n",
    "\n",
    "The repetitions can either be specified by a single integer or layer indices."
   ]
  },
  {
   "cell_type": "code",
   "execution_count": null,
   "metadata": {
    "slideshow": {
     "slide_type": "fragment"
    }
   },
   "outputs": [],
   "source": [
    "varform = Ansatz([gate_1, gate_2], [indices_1, indices_2], reps=3)\n",
    "varform = Ansatz([gate_1, gate_2], [indices_1, indices_2], reps=[0, 1, 0, 1, 0, 1])"
   ]
  },
  {
   "cell_type": "markdown",
   "metadata": {
    "slideshow": {
     "slide_type": "fragment"
    }
   },
   "source": [
    "Instead of gates we can also allow fancier options, e.g. provide a Callable that accepts a repetition number or similar."
   ]
  },
  {
   "cell_type": "markdown",
   "metadata": {
    "slideshow": {
     "slide_type": "subslide"
    }
   },
   "source": [
    "What happens to the parameters in the gates if they get repeated? Do they just get repeated? \n",
    "If we stored them in a list, the user could later on overwrite them in `construct_circuit`. \n",
    "\n",
    "We could also add some default parameters, since the user might not expect there to be the same parameters? If these default parameters haven't been substituted we could raise a warning.\n",
    "\n",
    "Repeating the parameters is probably the more intuitive solution. If the user wants different parameters, they must be set afterwards -- as it is also the case with default parameters."
   ]
  },
  {
   "cell_type": "markdown",
   "metadata": {
    "slideshow": {
     "slide_type": "slide"
    }
   },
   "source": [
    "## Operator Ansatz \n",
    "\n",
    "Several algorithms, such as QAOA, require an Operator-evolution type Ansatz, such as \n",
    "\n",
    "$$\n",
    "V(\\theta) = e^{i\\theta_1 \\hat O_1} e^{i\\theta_2 \\hat O_2} e^{i \\theta_3 \\hat O_1} e^{i\\theta_4 \\hat O_2}\\cdots ~.\n",
    "$$\n",
    "\n",
    "Currently, this is cumbersome to implement. Similar to the ''DIY'' Ansaetze, we could support an `OperatorAnsatz` based on `Ansatz`:"
   ]
  },
  {
   "cell_type": "code",
   "execution_count": null,
   "metadata": {
    "slideshow": {
     "slide_type": "fragment"
    }
   },
   "outputs": [],
   "source": [
    "varform = OperatorAnsatz([Op1, Op2], reps=4)"
   ]
  },
  {
   "cell_type": "markdown",
   "metadata": {
    "slideshow": {
     "slide_type": "slide"
    }
   },
   "source": [
    "## Feature map? Isn't that also a variational form?\n",
    "\n",
    "The concept of a variational form is broad. In support of a clear structure, we should group similar concepts. Then,\n",
    "* users are less confused and see what concepts have the same base,\n",
    "* we can reuse the same base functionalities,\n",
    "* we ensure that similar objects in Aqua behave the same way.\n",
    "\n",
    "Therefore, a common base for feature maps, variational forms (and others? `InitialState`? `UncertaintyModel`?) would be sensible."
   ]
  },
  {
   "cell_type": "code",
   "execution_count": null,
   "metadata": {
    "slideshow": {
     "slide_type": "fragment"
    }
   },
   "outputs": [],
   "source": [
    "class MyFeatureMap(Ansatz):\n",
    "    # implement\n",
    "    \n",
    "class MyMultiQubitVarform(Ansatz):\n",
    "    # implement\n",
    "\n",
    "class MyInitialState(Ansatz): \n",
    "    # implement\n",
    "    \n",
    "class MyUncertaintyModel(Ansatz):\n",
    "    # implement"
   ]
  },
  {
   "cell_type": "markdown",
   "metadata": {
    "slideshow": {
     "slide_type": "notes"
    }
   },
   "source": [
    "If `InitialState` and `UncertaintyModel` should be derived from `Ansatz` is discussed in more detail later on."
   ]
  },
  {
   "cell_type": "markdown",
   "metadata": {
    "slideshow": {
     "slide_type": "slide"
    }
   },
   "source": [
    "## Pre-transpilation & default parameters\n",
    "\n",
    "Terra provides the `Parameter` class for parameterized circuits. This can speedup the repeated execution of the same circuits with different parameters, as we can pre-transpile the circuit and substitute the parameters afterwards.\n",
    "This significantly improves our performance since transpiling is costly!\n",
    "\n",
    "By transpiling the circuit the first time `construct_circuit` is called, the user benefits from pre-transpiling without specifying it manually."
   ]
  },
  {
   "cell_type": "code",
   "execution_count": null,
   "metadata": {
    "slideshow": {
     "slide_type": "-"
    }
   },
   "outputs": [],
   "source": [
    "def construct_circuit(self, transpiled=True,  # set to False for untranspiled circuit\n",
    "                      parameter_prefix=default_prefix)"
   ]
  },
  {
   "cell_type": "markdown",
   "metadata": {
    "slideshow": {
     "slide_type": "fragment"
    }
   },
   "source": [
    "Also, we could simplify the setting of parameters, if the user just quickly wants a circuit to look at."
   ]
  },
  {
   "cell_type": "code",
   "execution_count": null,
   "metadata": {
    "slideshow": {
     "slide_type": "fragment"
    }
   },
   "outputs": [],
   "source": [
    "circuit = varform.construct_circuit()  # uses some default naming \n",
    "circuit = varform.construct_circuit(parameter_prefix='θ')"
   ]
  },
  {
   "cell_type": "markdown",
   "metadata": {
    "slideshow": {
     "slide_type": "slide"
    }
   },
   "source": [
    "## Optional barriers\n",
    "\n",
    "Barriers can be very useful for visualization, but if a circuit is executed only and not looked at, we don't need them and they can even slow down transpilation. Why insert them by default?"
   ]
  },
  {
   "cell_type": "code",
   "execution_count": null,
   "metadata": {
    "slideshow": {
     "slide_type": "fragment"
    }
   },
   "outputs": [],
   "source": [
    "circuit = varform.construct_circuit(insert_barriers=True)  # False by default"
   ]
  },
  {
   "cell_type": "markdown",
   "metadata": {
    "slideshow": {
     "slide_type": "fragment"
    }
   },
   "source": [
    "For this feature we would have to store a `has_barriers` variable and if the user changes back and forth between barriers and no barriers we would have to rebuild the circuit. (Workaround possible by storing both, but back-and-forth changing is not likely anyways.)"
   ]
  },
  {
   "cell_type": "markdown",
   "metadata": {
    "slideshow": {
     "slide_type": "slide"
    }
   },
   "source": [
    "# User benefit<a id='benefit'></a>\n",
    "\n",
    "Let's summarise the benefits of having an `Ansatz` class satisfying the requirements from the motivation.\n",
    "\n",
    "1. Beginner user\n",
    "    1. flexibility: can get creative and easily assemble new variational forms\n",
    "    2. performance: can `construct_circuit` without specifying parameters, and thereby benefits from potential speedup without even touching Terra's `Parameter` class\n",
    "2. Advanced user\n",
    "    1. needs less copy+paste to implement standard variational forms\n",
    "    2. can also benefit from `Parameter` related speedup\n",
    "    3. has lots of lots of flexibility\n",
    "        * by adding and combining varforms\n",
    "        * inserting new layers\n",
    "        * wrapping parameterized gates\n",
    "    4. gets less confused by the multitude of Ansatz-like objects in Aqua"
   ]
  },
  {
   "cell_type": "markdown",
   "metadata": {
    "slideshow": {
     "slide_type": "slide"
    }
   },
   "source": [
    "# Proposed Structure "
   ]
  },
  {
   "cell_type": "markdown",
   "metadata": {
    "slideshow": {
     "slide_type": "fragment"
    }
   },
   "source": [
    "The Ansatz class reconciles all classes that prepare an ansatz or wavefunction. Objects of the Ansatz type share the Ansatz interface and can be used as building blocks in larger circuits and algorithms. This has the key advantage, that the same concepts behave similarly and we avoid code duplication. \n",
    "\n",
    "More specialized types, that can also provide an easy setup or special behaviour, are derived from the Ansatz. \n",
    "\n",
    "See the next Figure."
   ]
  },
  {
   "cell_type": "markdown",
   "metadata": {
    "slideshow": {
     "slide_type": "subslide"
    }
   },
   "source": [
    "![Ansatz design](ansatz_scheme.jpg)"
   ]
  },
  {
   "cell_type": "markdown",
   "metadata": {
    "slideshow": {
     "slide_type": "subslide"
    }
   },
   "source": [
    "## Unify base classes\n",
    "\n",
    "Currently, Aqua (6.x) distinguishes between a `VariationalForm` and a `FeatureMap`, which are both abstract classes that specify interfaces. These interfaces, however, almost identical and could be merged. Further, to new users the terms \"variational form\" and \"feature map\" might be confusing, whereas the word \"Ansatz\" wraps both concepts.\n",
    "\n",
    "Thus, by introducing the `Ansatz` as joint class we can directly derive `PauliExpansion` and `TwoLocalGateAnsatz` without introducing new levels of inheritance, which might be sources of confusion."
   ]
  },
  {
   "cell_type": "markdown",
   "metadata": {
    "slideshow": {
     "slide_type": "subslide"
    }
   },
   "source": [
    "## Composition vs. Inheritance\n",
    "\n",
    "The objects `RY`/`RYRZ` are displayed as objects derived from not `Ansatz` but an intermediate type. This is discussed in the [implementation section](#standard_varforms)."
   ]
  },
  {
   "cell_type": "markdown",
   "metadata": {
    "slideshow": {
     "slide_type": "slide"
    }
   },
   "source": [
    "# Implementation <a id='implementation'></a>\n",
    "\n",
    "To be discussed in more detail.\n",
    "\n",
    "1. Ansatz\n",
    "1. Variational forms\n",
    "    1. TwoLocalGateAnsatz\n",
    "    1. Standard Forms\n",
    "1. Feature maps\n",
    "    1. Pauli expansions\n",
    "    1. First/Second/... order\n",
    "1. Initial state objects\n",
    "\n",
    "Note: We know use the term Ansatz for the concept of a parameterized circuit preparing a parameterized state, not variational form."
   ]
  },
  {
   "cell_type": "markdown",
   "metadata": {
    "slideshow": {
     "slide_type": "slide"
    }
   },
   "source": [
    "## Ansatz <a id='ansatz'></a>\n",
    "\n",
    "### Requirements recap\n",
    "\n",
    "1. Take a list of gates and a number of repetitions and construct an Ansatz of desired depth\n",
    "2. Provide `construct_circuit(params=None, transpiled=True, insert_barriers=False)`. Note, that `params` must support `list[float | Parameter]`.\n",
    "3. Combine two Ansatz objects at given indices\n",
    "4. Insert new gates at a specified place\n",
    "5. Backward compatibility with all previous `VariationalForm` objects"
   ]
  },
  {
   "cell_type": "markdown",
   "metadata": {
    "slideshow": {
     "slide_type": "subslide"
    }
   },
   "source": [
    "Code checklist:"
   ]
  },
  {
   "cell_type": "code",
   "execution_count": null,
   "metadata": {
    "slideshow": {
     "slide_type": "fragment"
    }
   },
   "outputs": [],
   "source": [
    "def __init__(self, layers, indices, reps)\n",
    "\n",
    "def construct_circuit(params=None, transpiled=True, parameter_prefix=default_prefix, insert_barriers=False)\n",
    "\n",
    "def __add__(other)  # easy appending of Ansaetze, and maybe for various kinds of RHS/LHS types?\n",
    "\n",
    "def append(other, connection_indices=None)  # for Ansatz + Ansatz at special indices\n",
    "\n",
    "def add_layer(gate, indices=None, position=end)  # to add a new gate/QuantumCircuit\n",
    "\n",
    "def insert_at_param(target_param, gate, indices=None)   # to insert after/before a certain parameter"
   ]
  },
  {
   "cell_type": "markdown",
   "metadata": {
    "slideshow": {
     "slide_type": "slide"
    }
   },
   "source": [
    "### Implementation proposal #1: `QuantumCircuit`\n",
    "\n",
    "Make an Ansatz essentially a `QuantumCircuit` object. "
   ]
  },
  {
   "cell_type": "markdown",
   "metadata": {
    "slideshow": {
     "slide_type": "subslide"
    }
   },
   "source": [
    "#### Advantages \n",
    "\n",
    "* already provides: `__add__(QuantumCircuit/Ansatz)` and `append(Gate)`"
   ]
  },
  {
   "cell_type": "markdown",
   "metadata": {
    "slideshow": {
     "slide_type": "subslide"
    }
   },
   "source": [
    "#### Technical Issues\n",
    "\n",
    "* parameter setting by `list[float | Parameter]` not inherently supported\n",
    "* a circuit doesn't have `construct_circuit` (obviously)\n",
    "* how to insert barriers or new gates at arbitrary positions? (use `data` member?)\n",
    "\n",
    "We lose flexibility. What was the initial gate object the user gave us? Missing performance benefit of pre-transpilation."
   ]
  },
  {
   "cell_type": "markdown",
   "metadata": {
    "slideshow": {
     "slide_type": "fragment"
    }
   },
   "source": [
    "#### Design Issues\n",
    "\n",
    "* inserts another level of inheritance (or maybe just use `QuantumCircuit` as component?)\n",
    "* `construct_circuit` is required for backward compatibility and the method name is very misleading \n",
    "* an Ansatz fits more the concept of an Gate in the sense that it has no registers attached. Therefore it should probably not be a `QuantumCircuit`."
   ]
  },
  {
   "cell_type": "markdown",
   "metadata": {
    "slideshow": {
     "slide_type": "slide"
    }
   },
   "source": [
    "### Implementation proposal #2: `Gate`\n",
    "\n",
    "Make an Ansatz essentially a `Gate` object."
   ]
  },
  {
   "cell_type": "markdown",
   "metadata": {
    "slideshow": {
     "slide_type": "subslide"
    }
   },
   "source": [
    "#### Advantages\n",
    "\n",
    "* intuitively that's what an Ansatz is: a (parameterized) gate\n",
    "* provides some required functionalities: allows setting of parameters as list, can be controlled, repeated, etc. \n",
    "* no registers bound to it\n",
    "* stores parameters as `list`, setting parameters by `list[float | Parameter]` is straightforward\n",
    "* a `construct_circuit` method makes sense and is maybe missing anyways (or `to_circuit`)"
   ]
  },
  {
   "cell_type": "markdown",
   "metadata": {
    "slideshow": {
     "slide_type": "subslide"
    }
   },
   "source": [
    "#### Technical Issues\n",
    "\n",
    "* how to insert barriers or new gates at arbitrary positions?\n",
    "* need to implement the appending of new gates/instructions (use `definition`?)\n",
    "* exposes us to future changes of Terra's hierarchy"
   ]
  },
  {
   "cell_type": "markdown",
   "metadata": {
    "slideshow": {
     "slide_type": "fragment"
    }
   },
   "source": [
    "#### Design Issues\n",
    "\n",
    "* inserts another level of inheritance (or maybe just use `Gate` as component?)"
   ]
  },
  {
   "cell_type": "markdown",
   "metadata": {
    "slideshow": {
     "slide_type": "slide"
    }
   },
   "source": [
    "### Implementation proposal #3: `list[Gate]`\n",
    "\n",
    "Base an Ansatz on a list of `Gate`s or `Instruction`s (each item with a set of qubit indices).\n",
    "The parameters would be kept in a list."
   ]
  },
  {
   "cell_type": "markdown",
   "metadata": {
    "slideshow": {
     "slide_type": "subslide"
    }
   },
   "source": [
    "#### Advantages\n",
    "\n",
    "* natural implementation of repeating layers\n",
    "* not dependent on changes in Terra\n",
    "* internal data structure reflects input parameters of the user\n",
    "* appending new instructions is trivial\n",
    "* adding two Ansaetze (or even other objects, e.g. `QuantumCircuit` or `Gate`) is straightforward: just add the respective lists of gates, the indices, reps, and the parameters\n",
    "* barriers are easily inserted in between the layers"
   ]
  },
  {
   "cell_type": "markdown",
   "metadata": {
    "slideshow": {
     "slide_type": "subslide"
    }
   },
   "source": [
    "#### Technical Issues\n",
    "\n",
    "* same issue as with `Gate`s to insert a new gate somewhere inside a layer"
   ]
  },
  {
   "cell_type": "markdown",
   "metadata": {
    "slideshow": {
     "slide_type": "fragment"
    }
   },
   "source": [
    "#### Design Issues\n",
    "\n",
    "* ?"
   ]
  },
  {
   "cell_type": "markdown",
   "metadata": {
    "slideshow": {
     "slide_type": "slide"
    }
   },
   "source": [
    "## Conclusion: Suggested design\n",
    "\n",
    "Ansatz as `QuantumCircuit` is not suitable: not the same performance benefit as the other designs, loose information of user input, `construct_circuit` is miselading. \n",
    "Using `Gate`s instead seems very convenient, conceptually and from an implementation point of view. If the Ansatz interally maintains a `Gate` (vs. being derived from it) gives us better control of the user information and naturally gives a sense of layers. \n",
    "\n",
    "**Suggestion** Use design #3, the Ansatz holds a list of `Gate` objects. \n",
    "\n",
    "Along with it, it holds a list of qubit indices the gates are applied to, and a list of parameters in the Ansatz."
   ]
  },
  {
   "cell_type": "markdown",
   "metadata": {
    "slideshow": {
     "slide_type": "slide"
    }
   },
   "source": [
    "## (Previously called) Variational forms <a id='varforms'></a>\n",
    "\n",
    "![](img/ansatz_varform_scheme.pdf)"
   ]
  },
  {
   "cell_type": "markdown",
   "metadata": {
    "slideshow": {
     "slide_type": "subslide"
    }
   },
   "source": [
    "### Backward compatibility\n",
    "\n",
    "Does Ansatz provide all functionalities of the current `VariationalForm`? "
   ]
  },
  {
   "cell_type": "markdown",
   "metadata": {
    "slideshow": {
     "slide_type": "fragment"
    }
   },
   "source": [
    "Almost.\n",
    "\n",
    "Missing:\n",
    "* `num_parameters`\n",
    "* `setting(self)`\n",
    "* `parameter_bounds(self)`\n",
    "* `depth`"
   ]
  },
  {
   "cell_type": "markdown",
   "metadata": {
    "slideshow": {
     "slide_type": "subslide"
    }
   },
   "source": [
    "#### `setting`\n",
    "\n",
    "Prints a formatted version of `self.__dict__`. Is this necessary? \n",
    "\n",
    "If yes, this is easily added to the `Ansatz` and might make sense for debug purposes."
   ]
  },
  {
   "cell_type": "markdown",
   "metadata": {
    "slideshow": {
     "slide_type": "subslide"
    }
   },
   "source": [
    "#### `support_parameterized_circuit`\n",
    "\n",
    "This is true when the Ansatz is able to return a circuit set up with Terra's `Parameter`s. For all Ansaetze this should be true. \n",
    "\n",
    "Can we therefore remove this attribute? "
   ]
  },
  {
   "cell_type": "markdown",
   "metadata": {
    "slideshow": {
     "slide_type": "subslide"
    }
   },
   "source": [
    "#### `parameter_bounds`\n",
    "\n",
    "The `parameter_bounds` are supposed to be the valid ranges for the parameters of an Ansatz. They can be forwarded to an optimizer to limit the search range and, thus, improve performance.\n",
    "\n",
    "An issue with allowing this attribute is that it suggests the Ansatz will enforce the parameter bounds to be respected. However, this is not correct.\n",
    "\n",
    "Possible options:\n",
    "\n",
    "1. Keep the attribute and give a warning, that the bounds are not enforced.\n",
    "1. Enforce the parameter bounds in `construct_circuit`\n",
    "1. Generate the parameter bounds on demand, based on the gates the Ansatz contains. If the standard gates knew their parameter range for optimization, this could be solved elegantly."
   ]
  },
  {
   "cell_type": "markdown",
   "metadata": {
    "slideshow": {
     "slide_type": "subslide"
    }
   },
   "source": [
    "#### `depth`\n",
    "\n",
    "This equals the `reps` keyword of `Ansatz`. Both `VariationalForm` and `FeatureMap` use the word `depth` instead. Depth however, is ambiguous and could also refer to the circuit depth instead of the number of layers. \n",
    "Using `reps` instead of `depth` in the future is therefore desirable. With a deprectation warning the attribute `depth` can still be supported for a while. \n",
    "\n",
    "Another possible use of `depth` could be the following. One restriction on current hardware is the depth of the circuit to be simulated. To easily create Ansaetze of feasible circuit depth, the `depth` attribute could specify the maximum depth of the Ansatz. Instead of repeating the input gates _x_ times, we could repeat them until the maximum depth is reached."
   ]
  },
  {
   "cell_type": "markdown",
   "metadata": {
    "slideshow": {
     "slide_type": "slide"
    }
   },
   "source": [
    "## TwoLocalGateAnsatz"
   ]
  },
  {
   "cell_type": "markdown",
   "metadata": {
    "slideshow": {
     "slide_type": "subslide"
    }
   },
   "source": [
    "### Requirement recap\n",
    "\n",
    "Input: number of qubits, one qubit gate(s), two qubit gate(s), depth/reps, entanglement, skip_unentangled_qubits, skip_final_rotation, (initial state?)\n",
    "\n",
    "Output: the specified Ansatz"
   ]
  },
  {
   "cell_type": "markdown",
   "metadata": {
    "slideshow": {
     "slide_type": "subslide"
    }
   },
   "source": [
    "### Implementation proposal\n",
    "\n",
    "In the initializer, build the rotation and entanglement gates from the single- and two-qubit gates and the entanglement information. From the depth/reps set up the correct repetition indices. In `construct_circuit`, build the circuit. Theoretically, the `construct_circuit` of the `Ansatz` class can be used.\n",
    "\n",
    "Hence derivation is sensible."
   ]
  },
  {
   "cell_type": "code",
   "execution_count": null,
   "metadata": {},
   "outputs": [],
   "source": [
    "class TwoLocalGateAnsatz(Ansatz)"
   ]
  },
  {
   "cell_type": "markdown",
   "metadata": {
    "slideshow": {
     "slide_type": "subslide"
    }
   },
   "source": [
    "#### Points to discuss\n",
    "\n",
    "* Should the keywords `entanglement` and `entangler_map` be merged to `entanglement`?\n",
    "* Deprecate the `initial_state` keyword?"
   ]
  },
  {
   "cell_type": "markdown",
   "metadata": {
    "slideshow": {
     "slide_type": "subslide"
    }
   },
   "source": [
    "Should the keywords `entanglement` and `entangler_map` be merged to `entanglement`?"
   ]
  },
  {
   "cell_type": "markdown",
   "metadata": {
    "slideshow": {
     "slide_type": "fragment"
    }
   },
   "source": [
    "#### Pro\n",
    "\n",
    "* Having multiple keywords forces the code to decide which keyword overrules which. This can be opaque to the user. If we don't enforce a \"keyword hierarchy\", we could throw errors if multiple are set. (And who likes runtime errors?) \n",
    "* Assume we add a new possible input type, e.g. `Callable`. Then we would require yet another keyword and choose which keyword is actually active if multiple are set. With one keyword only, we just have to add an `isinstance` if-statement (which we anyways need).\n",
    "* The user doesn't need to think about which keyword he needs to use for the entanglement input, whether it is specified via string or pairs of qubits."
   ]
  },
  {
   "cell_type": "markdown",
   "metadata": {
    "slideshow": {
     "slide_type": "fragment"
    }
   },
   "source": [
    "#### Contra\n",
    "\n",
    "* The signature doesn't clearly show what input types of entanglement exist. (Then again, there is such a thing as docstrings.)"
   ]
  },
  {
   "cell_type": "markdown",
   "metadata": {
    "slideshow": {
     "slide_type": "subslide"
    }
   },
   "source": [
    "**Conclusion** Yes, merge `entanglement` and `entangler_map` in `entanglement`."
   ]
  },
  {
   "cell_type": "markdown",
   "metadata": {
    "slideshow": {
     "slide_type": "slide"
    }
   },
   "source": [
    "## Standard Ansaetze<a id='standard_varforms'></a>\n",
    "\n",
    "Such forms as `RY` or `RYRZ`."
   ]
  },
  {
   "cell_type": "markdown",
   "metadata": {
    "slideshow": {
     "slide_type": "subslide"
    }
   },
   "source": [
    "### Implementation proposal #1\n",
    "\n",
    "As subclass of `TwoLocalGateAnsatz`."
   ]
  },
  {
   "cell_type": "markdown",
   "metadata": {
    "slideshow": {
     "slide_type": "fragment"
    }
   },
   "source": [
    "#### Advantages\n",
    "\n",
    "* super easy to implement\n",
    "* natural design: The standard Ansaetze are specifications of the two-local gate ansatz, obtained by fixing the single qubit gate and providing a default two qubit gate."
   ]
  },
  {
   "cell_type": "markdown",
   "metadata": {
    "slideshow": {
     "slide_type": "fragment"
    }
   },
   "source": [
    "#### Issues\n",
    "\n",
    "* adds another level of inheritance\n",
    "* `RY(Ansatz)` is elegant to read, since `RY` is just an Ansatz"
   ]
  },
  {
   "cell_type": "markdown",
   "metadata": {
    "slideshow": {
     "slide_type": "subslide"
    }
   },
   "source": [
    "### Implementation proposal #2\n",
    "\n",
    "As subclass of `Ansatz`, using `TwoLocalGateAnsatz` as component."
   ]
  },
  {
   "cell_type": "markdown",
   "metadata": {
    "slideshow": {
     "slide_type": "fragment"
    }
   },
   "source": [
    "#### Advantages\n",
    "\n",
    "* `RY(Ansatz)` is intuitive to read\n",
    "* no new level of inheritance"
   ]
  },
  {
   "cell_type": "markdown",
   "metadata": {
    "slideshow": {
     "slide_type": "fragment"
    }
   },
   "source": [
    "#### Issues\n",
    "\n",
    "* probably need to wrap all functions of `TwoLocalGateAnsatz`"
   ]
  },
  {
   "cell_type": "markdown",
   "metadata": {
    "slideshow": {
     "slide_type": "subslide"
    }
   },
   "source": [
    "### Conclusion\n",
    "\n",
    "Inheritance is easier to implement and reading `RY(TwoLocalGateAnsatz)` is still comprehensible.\n",
    "Therefore, choose inheritance over composition."
   ]
  },
  {
   "cell_type": "code",
   "execution_count": null,
   "metadata": {
    "slideshow": {
     "slide_type": "fragment"
    }
   },
   "outputs": [],
   "source": [
    "class RY(TwoLocalGateAnsatz):\n",
    "    def __init__(self, ...):  # repeat all keywords here to enable IDE detection\n",
    "        super().__init__(single_qubit_gate='ry', ...)"
   ]
  },
  {
   "cell_type": "code",
   "execution_count": null,
   "metadata": {
    "slideshow": {
     "slide_type": "fragment"
    }
   },
   "outputs": [],
   "source": [
    "class RYRZ(TwoLocalGateAnsatz):\n",
    "    def __init__(self, ...):\n",
    "        super().__init__(single_qubit_gate=['ry', 'rz'], ...)"
   ]
  },
  {
   "cell_type": "markdown",
   "metadata": {
    "slideshow": {
     "slide_type": "slide"
    }
   },
   "source": [
    "## Feature maps <a id='featmaps'></a>\n",
    "\n",
    "![](img/ansatz_featmap_scheme.pdf)"
   ]
  },
  {
   "cell_type": "markdown",
   "metadata": {
    "slideshow": {
     "slide_type": "subslide"
    }
   },
   "source": [
    "### Backward compatibility\n",
    "\n",
    "Does Ansatz provide all functionalities of the current `FeatureMap`? "
   ]
  },
  {
   "cell_type": "markdown",
   "metadata": {
    "slideshow": {
     "slide_type": "fragment"
    }
   },
   "source": [
    "Yes -- except `self.feature_dimension`."
   ]
  },
  {
   "cell_type": "markdown",
   "metadata": {
    "slideshow": {
     "slide_type": "subslide"
    }
   },
   "source": [
    "#### `feature_dimension`\n",
    "\n",
    "Possible solutions include\n",
    "\n",
    "* New class `FeatureMap(Ansatz)`: An additional class for just one new method, that exists under another name, is not really justified.\n",
    "\n",
    "* Add the method `feature_dimension` to `Ansatz`: If Ansatz is not used as replacement of current feature maps this method remains unused.\n",
    "\n",
    "* Deprecate `feature_dimension`, use `num_parameters` instead: Deprecating `feature_dimension` is probably not a good idea, since it is a legitimate attribute of a feature map."
   ]
  },
  {
   "cell_type": "markdown",
   "metadata": {
    "slideshow": {
     "slide_type": "fragment"
    }
   },
   "source": [
    "**Conclusion** The best solution seems to be adding, but deprecating, the `feature_dimension` method."
   ]
  },
  {
   "cell_type": "markdown",
   "metadata": {
    "slideshow": {
     "slide_type": "subslide"
    }
   },
   "source": [
    "### Implementation proposal\n",
    "\n",
    "The hierarchy within the \"feature map\" branch should be the same as for the \"variational form\" branch. Meaning, we implement a `PauliExpression` and the specialized classes as derived objects. This design is also the current form."
   ]
  },
  {
   "cell_type": "markdown",
   "metadata": {
    "slideshow": {
     "slide_type": "subslide"
    }
   },
   "source": [
    "However -- is the additional layer `PauliZExpansion` truly necessary?"
   ]
  },
  {
   "cell_type": "code",
   "execution_count": null,
   "metadata": {
    "slideshow": {
     "slide_type": "fragment"
    }
   },
   "outputs": [],
   "source": [
    "def __init__(self, feature_dimension, depth=2, entangler_map=None, entanglement='full', z_order=2, \n",
    "            data_map_func=self_product):\n",
    "    pauli_string = []\n",
    "    for i in range(1, z_order + 1):\n",
    "        pauli_string.append('Z' * i)\n",
    "    super().__init__(..., paulis=pauli_string)"
   ]
  },
  {
   "cell_type": "markdown",
   "metadata": {
    "slideshow": {
     "slide_type": "-"
    }
   },
   "source": [
    "Later on used in the definition of the first- and second-order expansions."
   ]
  },
  {
   "cell_type": "code",
   "execution_count": null,
   "metadata": {
    "slideshow": {
     "slide_type": "-"
    }
   },
   "outputs": [],
   "source": [
    "class FirstOrderExpansion(PauliZExpansion):  # resp. SecondOrderExpansion\n",
    "    def __init__(self, feature_dimension, depth=2, data_map_func=self_product):\n",
    "        super().__init__(..., z_order=1)  # resp. z_order=2"
   ]
  },
  {
   "cell_type": "markdown",
   "metadata": {
    "slideshow": {
     "slide_type": "subslide"
    }
   },
   "source": [
    "#### Pro\n",
    "\n",
    "* simplifies the definition of Pauli Z expansion feature maps (such as `First/SecondOrderExpansion`)"
   ]
  },
  {
   "cell_type": "markdown",
   "metadata": {
    "slideshow": {
     "slide_type": "fragment"
    }
   },
   "source": [
    "#### Contra\n",
    "\n",
    "* introduces an additional layer of inheritance\n",
    "* if `First/SecondOrderExpansion` is the main motivation for this class, then the two minor changes they introduce is probably not worth introducing the `PauliZExpansion`"
   ]
  },
  {
   "cell_type": "markdown",
   "metadata": {
    "slideshow": {
     "slide_type": "slide"
    }
   },
   "source": [
    "## Initial states\n",
    "\n",
    "The `InitialState` class allows to obtain circuits that prepare certain (fixed) states. Currently, these include a the zero-state, a uniform superposition, the preparation of a specified statevector, or the an Ansatz with certain parameters.\n",
    "\n",
    "A fixed circuit is merely a special case of a Ansatz with zero parameters, thus, the initial states can be seen as Ansaetze. \n",
    "\n",
    "However, all the parameter business and repeating is not needed for an initial state object and we could probably simplify the object. Also the initial state includes some functionalities (as statevector preparation) that an Ansatz doesn't. Thus, it might be less confusing for the user to keep the `InitialState` object."
   ]
  },
  {
   "cell_type": "markdown",
   "metadata": {
    "slideshow": {
     "slide_type": "slide"
    }
   },
   "source": [
    "## Uncertainty models\n",
    "\n",
    "Uncertainty models (UM) encode their underlying probability distribution in the amplitude of the qubits, i.e. they perform the mapping\n",
    "\n",
    "$$\n",
    "|0\\rangle_n \\mapsto \\mathcal P_X |0\\rangle_n = \\sum_{x} \\sqrt{p_x} |x\\rangle_n.\n",
    "$$\n",
    "\n",
    "In this sense they could also fall in the category of an Ansatz with empty parameter set, i.e. an initial state.\n",
    "\n",
    "However, to set up the UM for an arbitrary probability distribution they must be trained (e.g. via qGANs). To this end, they accept an Ansatz  $V(\\theta)$ and tune the parameters until the operator $\\mathcal P_X$ is approximated well enough. \n",
    "\n",
    "Hence, they should not be an Ansatz, but rather use on as component. "
   ]
  }
 ],
 "metadata": {
  "celltoolbar": "Slideshow",
  "kernelspec": {
   "display_name": "latest",
   "language": "python",
   "name": "latest"
  },
  "language_info": {
   "codemirror_mode": {
    "name": "ipython",
    "version": 3
   },
   "file_extension": ".py",
   "mimetype": "text/x-python",
   "name": "python",
   "nbconvert_exporter": "python",
   "pygments_lexer": "ipython3",
   "version": "3.7.5"
  }
 },
 "nbformat": 4,
 "nbformat_minor": 2
}
