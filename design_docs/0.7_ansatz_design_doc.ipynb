{
 "cells": [
  {
   "cell_type": "markdown",
   "metadata": {},
   "source": [
    "# Overview\n",
    "\n",
    "1. [Motivation](#motivation)\n",
    "1. [User benefit](#benefit)\n",
    "1. [Proposed structure](#structure)\n",
    "1. [Implementation](#implementation)\n",
    "    1. [The `Ansatz` object](#ansatz)\n",
    "    1. [Variational forms](#varforms)\n",
    "    1. [Feature maps](#featmaps)\n",
    "    1. Others"
   ]
  },
  {
   "cell_type": "markdown",
   "metadata": {
    "slideshow": {
     "slide_type": "slide"
    }
   },
   "source": [
    "# Motivation<a id=\"motivation\"></a>"
   ]
  },
  {
   "cell_type": "markdown",
   "metadata": {
    "slideshow": {
     "slide_type": "slide"
    }
   },
   "source": [
    "## Creating a new variational form\n",
    "\n",
    "Currently, creating a new variational form class requires a lot of copy+paste. \n",
    "\n",
    "Remember: `RYRZ` has all of that, too!"
   ]
  },
  {
   "cell_type": "code",
   "execution_count": null,
   "metadata": {
    "slideshow": {
     "slide_type": "fragment"
    }
   },
   "outputs": [],
   "source": [
    "class RY(VariationalForm):\n",
    "    \"\"\"Layers of Y rotations followed by entangling gates.\"\"\"\n",
    "\n",
    "    def __init__(self, num_qubits, depth=3, entangler_map=None, entanglement='full', initial_state=None,\n",
    "                 entanglement_gate='cz', skip_unentangled_qubits=False, skip_final_ry=False):\n",
    "        self.validate(locals())\n",
    "        super().__init__()\n",
    "        \"\"\" 30 more lines ... \"\"\"\n",
    "        self._bounds = [(-np.pi, np.pi)] * self._num_parameters\n",
    "        self._support_parameterized_circuit = True\n",
    "\n",
    "    def construct_circuit(self, parameters, q=None):\n",
    "        if len(parameters) != self._num_parameters:\n",
    "            raise ValueError('The number of parameters has to be {}'.format(self._num_parameters))\n",
    "        \"\"\" 39 more lines ... \"\"\"\n",
    "        return circuit"
   ]
  },
  {
   "cell_type": "markdown",
   "metadata": {
    "slideshow": {
     "slide_type": "slide"
    }
   },
   "source": [
    "Setting up a new variational form should be quick and easy, more like:"
   ]
  },
  {
   "cell_type": "code",
   "execution_count": null,
   "metadata": {
    "slideshow": {
     "slide_type": "fragment"
    }
   },
   "outputs": [],
   "source": [
    "class RY(TwoQubitAnsatz):\n",
    "    def __init__(self, ...):\n",
    "        super.__init__(single_qubit_gate='ry', ...)"
   ]
  },
  {
   "cell_type": "markdown",
   "metadata": {
    "slideshow": {
     "slide_type": "slide"
    }
   },
   "source": [
    "If a user wants to quickly try a new format, it would convenient to set up the variational form in just a single line. Not all ideas must become a full, new class."
   ]
  },
  {
   "cell_type": "code",
   "execution_count": null,
   "metadata": {
    "slideshow": {
     "slide_type": "fragment"
    }
   },
   "outputs": [],
   "source": [
    "rxrycx = MultiQubitAnsatz(num_qubits, single_qubit_gate=['rx', 'ry'], two_qubit_gate='cx', depth=4)"
   ]
  },
  {
   "cell_type": "markdown",
   "metadata": {
    "slideshow": {
     "slide_type": "slide"
    }
   },
   "source": [
    "## Adding and inserting layers\n",
    "\n",
    "The circuits that current variational forms build are not extensible. For algorithms, such as adaptive VQE, adding new layers to the variational forms is necessary. \n",
    "\n",
    "Ideally, this could look like:"
   ]
  },
  {
   "cell_type": "code",
   "execution_count": null,
   "metadata": {
    "slideshow": {
     "slide_type": "fragment"
    }
   },
   "outputs": [],
   "source": [
    "varform.add(additional_layer, qubit_indices)"
   ]
  },
  {
   "cell_type": "markdown",
   "metadata": {
    "slideshow": {
     "slide_type": "fragment"
    }
   },
   "source": [
    "Other algorithms require the insertion of a new gate or layer not at the end of the variational form but somewhere in the middle."
   ]
  },
  {
   "cell_type": "code",
   "execution_count": null,
   "metadata": {
    "slideshow": {
     "slide_type": "fragment"
    }
   },
   "outputs": [],
   "source": [
    "varform.add(additional_gate, qubit_indices, position)  # maybe also called varform.insert"
   ]
  },
  {
   "cell_type": "markdown",
   "metadata": {
    "slideshow": {
     "slide_type": "fragment"
    }
   },
   "source": [
    "For some applications, such as gradients, it is necessary to insert new gates at specific positions. These positions are characterised by a parameter `Parameter('θ')` of a gate."
   ]
  },
  {
   "cell_type": "code",
   "execution_count": null,
   "metadata": {
    "slideshow": {
     "slide_type": "fragment"
    }
   },
   "outputs": [],
   "source": [
    "target_param = Parameter('θ')  # this variable is also used in the circuit \n",
    "varform.insert(target_param, instr_to_insert, qubit_indices)"
   ]
  },
  {
   "cell_type": "markdown",
   "metadata": {
    "slideshow": {
     "slide_type": "slide"
    }
   },
   "source": [
    "## Combining variational forms\n",
    "\n",
    "A variational form is essentially an instruction preparing a parameterized state. For chemistry, a this could be the preparation of certain excitation. For multiple excitations, we should be able to just add the respective variational forms."
   ]
  },
  {
   "cell_type": "code",
   "execution_count": null,
   "metadata": {
    "slideshow": {
     "slide_type": "fragment"
    }
   },
   "outputs": [],
   "source": [
    "S0, S1 = single_excitation('θ0'), single_excitation('θ1')\n",
    "D = double_excitation('θ2')\n",
    "UCCSD = S0 + S1 + D"
   ]
  },
  {
   "cell_type": "markdown",
   "metadata": {
    "slideshow": {
     "slide_type": "fragment"
    }
   },
   "source": [
    "If some variational forms prepare subsystems, they should be able to be combined at certain qubit indices."
   ]
  },
  {
   "cell_type": "code",
   "execution_count": null,
   "metadata": {
    "slideshow": {
     "slide_type": "fragment"
    }
   },
   "outputs": [],
   "source": [
    "varform = sub_varform.combine(other_varform, indices)"
   ]
  },
  {
   "cell_type": "markdown",
   "metadata": {
    "slideshow": {
     "slide_type": "slide"
    }
   },
   "source": [
    "## DIY: special variational forms\n",
    "\n",
    "Variational forms can be very diverse and for special problems special structures may perform better than others. Therefore, users should be able to specify their very own rotation and entanglement layers."
   ]
  },
  {
   "cell_type": "markdown",
   "metadata": {
    "slideshow": {
     "slide_type": "fragment"
    }
   },
   "source": [
    "For constant layers, this could be:"
   ]
  },
  {
   "cell_type": "code",
   "execution_count": null,
   "metadata": {
    "slideshow": {
     "slide_type": "fragment"
    }
   },
   "outputs": [],
   "source": [
    "varform = Ansatz([my_rotation_layer, my_entanglement_layer], repeat=3, final_layer=my_rotation_layer)"
   ]
  },
  {
   "cell_type": "markdown",
   "metadata": {
    "slideshow": {
     "slide_type": "fragment"
    }
   },
   "source": [
    "If the layers differ per block, we might pass a function for the layers, which accepts a `block_num` argument."
   ]
  },
  {
   "cell_type": "code",
   "execution_count": null,
   "metadata": {
    "slideshow": {
     "slide_type": "fragment"
    }
   },
   "outputs": [],
   "source": [
    "def special_entanglement(num_qubits, block_num):\n",
    "    # returns the entanglement structure in block `block_num`\n",
    "    \n",
    "varform = Ansatz([my_rotation_layer, special_entanglement], repeat=5)"
   ]
  },
  {
   "cell_type": "markdown",
   "metadata": {
    "slideshow": {
     "slide_type": "fragment"
    }
   },
   "source": [
    "But to keep it as general as possible, it should be possible to wrap an arbitrary parameterized instructions as Ansatz or variational form, so it is accepted by the Aqua algorithms."
   ]
  },
  {
   "cell_type": "code",
   "execution_count": null,
   "metadata": {
    "slideshow": {
     "slide_type": "fragment"
    }
   },
   "outputs": [],
   "source": [
    "varform = Ansatz(my_special_instruction)"
   ]
  },
  {
   "cell_type": "markdown",
   "metadata": {
    "slideshow": {
     "slide_type": "slide"
    }
   },
   "source": [
    "## Feature map? Isn't that also a variational form?\n",
    "\n",
    "The concept of a variational form is broad. To support a clear structure, we should group similar concepts. Then,\n",
    "* users are less confused and see what concepts have the same base\n",
    "* we can reuse the same base functionalities\n",
    "* ensure that similar objects in Aqua behave the same way\n",
    "\n",
    "Therefore, a common base for feature maps, variational forms (and others? `InitialState`? `UncertaintyModel`?) would be sensible."
   ]
  },
  {
   "cell_type": "code",
   "execution_count": null,
   "metadata": {
    "slideshow": {
     "slide_type": "fragment"
    }
   },
   "outputs": [],
   "source": [
    "class FeatureMap(Ansatz):\n",
    "    # implement\n",
    "    \n",
    "class MultiQubitVarform(Ansatz):\n",
    "    # implement\n",
    "\n",
    "class InitialState(Ansatz): \n",
    "    # implement\n",
    "    \n",
    "class UncertaintyModel(Ansatz):\n",
    "    # implement"
   ]
  },
  {
   "cell_type": "markdown",
   "metadata": {
    "slideshow": {
     "slide_type": "slide"
    }
   },
   "source": [
    "## Lazy parameterization\n",
    "\n",
    "Terra provides the `Parameter` class for parameterized circuits. We should make use of this and allow for an easier construction of circuits, without requiring what we don't yet need: Parameters. Parameters are only necessary once a circuit is executed, not already when the variational form is constructed."
   ]
  },
  {
   "cell_type": "code",
   "execution_count": null,
   "metadata": {
    "slideshow": {
     "slide_type": "fragment"
    }
   },
   "outputs": [],
   "source": [
    "circuit = varform.construct_circuit()  # no argument!"
   ]
  },
  {
   "cell_type": "markdown",
   "metadata": {
    "slideshow": {
     "slide_type": "fragment"
    }
   },
   "source": [
    "Maybe also:"
   ]
  },
  {
   "cell_type": "code",
   "execution_count": null,
   "metadata": {
    "slideshow": {
     "slide_type": "fragment"
    }
   },
   "outputs": [],
   "source": [
    "circuit = varform.construct_circuit(parameter_prefix='θ')"
   ]
  },
  {
   "cell_type": "markdown",
   "metadata": {
    "slideshow": {
     "slide_type": "slide"
    }
   },
   "source": [
    "## Optional barriers\n",
    "\n",
    "Barriers can be very useful for visualization, but if a circuit is executed only and not looked at, we don't need them. Why insert them by default?"
   ]
  },
  {
   "cell_type": "code",
   "execution_count": null,
   "metadata": {
    "slideshow": {
     "slide_type": "fragment"
    }
   },
   "outputs": [],
   "source": [
    "circuit = varform.construct_circuit(insert_barriers=True)  # False by default"
   ]
  },
  {
   "cell_type": "markdown",
   "metadata": {
    "slideshow": {
     "slide_type": "slide"
    }
   },
   "source": [
    "# User benefit<a id='benefit'></a>\n",
    "\n",
    "1. The ''frontend'' user\n",
    "    1. can get creative and easily assemble new variational forms\n",
    "    2. can `construct_circuit` without specifying parameters, and thereby benefits from potential speedup without even touching Terra's `Parameter` class\n",
    "2. The researcher\n",
    "    1. needs less copy+paste to implement standard variational forms\n",
    "    2. can also benefit from `Parameter` related speedup\n",
    "    3. has lots of lots of flexibility\n",
    "        * by adding and combining varforms\n",
    "        * inserting new layers\n",
    "        * wrapping parameterized instructions\n",
    "    4. gets less confused by the multitude of Ansatz-like objects in Aqua"
   ]
  },
  {
   "cell_type": "markdown",
   "metadata": {
    "slideshow": {
     "slide_type": "slide"
    }
   },
   "source": [
    "# Proposed Structure "
   ]
  },
  {
   "cell_type": "markdown",
   "metadata": {
    "slideshow": {
     "slide_type": "fragment"
    }
   },
   "source": [
    "The Ansatz class reconciles all classes that prepare an ansatz or wavefunction. Objects of the Ansatz type share the Ansatz interface and can be used as building blocks in larger circuits and algorithms. This has the key advantage, that same concepts behave similar and we can avoid duplicate code. \n",
    "\n",
    "More specialized types, that can also provide an easy setup or special behaviour, are derived from the Ansatz. \n",
    "However, instead of introducing simply a new layer below `VariationalForm` and `FeatureMap` the Ansatz can simply replace these. \n",
    "\n",
    "See the next Figure."
   ]
  },
  {
   "cell_type": "markdown",
   "metadata": {
    "slideshow": {
     "slide_type": "subslide"
    }
   },
   "source": [
    "![Ansatz design](ansatz_scheme.jpg)"
   ]
  },
  {
   "cell_type": "markdown",
   "metadata": {
    "slideshow": {
     "slide_type": "subslide"
    }
   },
   "source": [
    "## Minimizing the number of layers\n",
    "\n",
    "Currently (Aqua 6.x) distinguishes between a `VariationalForm` and a `FeatureMap`, which are both abstract classes that specify interfaces. These interfaces, however, almost identical and could be merged. Further, to new users the terms variational form and feature map might be confusing, whereas the word ''Ansatz'' wraps both concepts.\n",
    "\n",
    "Thus, by introducing the `Ansatz` as joint class and directly derive `PauliExpansion` and special variational forms from it we group similar concepts without introducing new levels of inheritance, which might be sources of confusion."
   ]
  },
  {
   "cell_type": "markdown",
   "metadata": {
    "slideshow": {
     "slide_type": "subslide"
    }
   },
   "source": [
    "## Composition vs. Inheritance\n",
    "\n",
    "The objects `RY`/`RYRZ` as well as `FirstOrderExpansion`/`SecondOrderExpansion` are displayed as objects derived from not `Ansatz` but an intermediate type. This is discussed in the [implementation section](#standard_varforms)."
   ]
  },
  {
   "cell_type": "markdown",
   "metadata": {},
   "source": [
    "# Implementation <a id='implementation'></a>\n",
    "\n",
    "To be discussed in more detail.\n",
    "\n",
    "1. Ansatz\n",
    "1. Variational forms\n",
    "    1. TwoLocalGateAnsatz\n",
    "    1. Standard Forms\n",
    "1. Feature maps\n",
    "    1. Pauli expansions\n",
    "    1. First/Second/... order\n",
    "1. Initial state objects"
   ]
  },
  {
   "cell_type": "markdown",
   "metadata": {
    "slideshow": {
     "slide_type": "slide"
    }
   },
   "source": [
    "## Ansatz <a id='ansatz'></a>\n",
    "\n",
    "### Requirements recap\n",
    "\n",
    "1. Take a list of instructions and a number of repetitions and construct an Ansatz of desired depth\n",
    "2. Provide `construct_circuit(params=None, insert_barriers=False)`. Note, that `params` must support `list[float | Parameter]`.\n",
    "3. Combine two Ansatz objects at given indices\n",
    "4. Insert new instructions at a specified place\n",
    "5. Backward compatibility with all variational form objects"
   ]
  },
  {
   "cell_type": "markdown",
   "metadata": {
    "slideshow": {
     "slide_type": "subslide"
    }
   },
   "source": [
    "Code checklist:"
   ]
  },
  {
   "cell_type": "code",
   "execution_count": null,
   "metadata": {
    "slideshow": {
     "slide_type": "fragment"
    }
   },
   "outputs": [],
   "source": [
    "def __init__(self, layers, repeat, final_layer)\n",
    "\n",
    "def construct_circuit(params=None, parameter_prefix=None, insert_barriers=False)\n",
    "\n",
    "def __add__(other)  # for Ansatz + Ansatz\n",
    "\n",
    "def combine(other, connection_indices=None)  # for Ansatz + Ansatz at special indices\n",
    "\n",
    "def add(instruction, indices=None, position=end)  # to add a new instruction\n",
    "\n",
    "def insert_at_param(target_param, instruction, indices=None)   # to insert after/before a certain parameter"
   ]
  },
  {
   "cell_type": "markdown",
   "metadata": {
    "slideshow": {
     "slide_type": "slide"
    }
   },
   "source": [
    "### Implementation proposal #1: `QuantumCircuit`\n",
    "\n",
    "Make an Ansatz essentially a `QuantumCircuit` object. "
   ]
  },
  {
   "cell_type": "markdown",
   "metadata": {
    "slideshow": {
     "slide_type": "subslide"
    }
   },
   "source": [
    "#### Advantages \n",
    "\n",
    "* already provides: `__add__(QuantumCircuit/Ansatz)` and `append(Instruction)`"
   ]
  },
  {
   "cell_type": "markdown",
   "metadata": {
    "slideshow": {
     "slide_type": "subslide"
    }
   },
   "source": [
    "#### Technical Issues\n",
    "\n",
    "* cannot add two circuits of different sizes, nor combine them on specified indices\n",
    "* `append` can only add an `Instruction` to the end of the circuit\n",
    "* a circuit doesn't have `construct_circuit` (obviously)\n",
    "* parameter setting by `list[float | Parameter]` not inherently supported\n",
    "* how to insert barriers or new gates at arbitray positions? (use `data` member?)"
   ]
  },
  {
   "cell_type": "markdown",
   "metadata": {
    "slideshow": {
     "slide_type": "fragment"
    }
   },
   "source": [
    "#### Design Issues\n",
    "\n",
    "* inserts another level of inheritance (or maybe just use `QuantumCircuit` as component?)\n",
    "* `construct_circuit` is required for backward compatibility and the method name is very misleading \n",
    "* an Ansatz fits more the concept of an Instruction in the sense that it has no registers attached. Therefore it should probably not be a `QuantumCircuit`"
   ]
  },
  {
   "cell_type": "markdown",
   "metadata": {
    "slideshow": {
     "slide_type": "slide"
    }
   },
   "source": [
    "### Implementation proposal #2: `Gate`\n",
    "\n",
    "Make an Ansatz essentially a `Gate` object."
   ]
  },
  {
   "cell_type": "markdown",
   "metadata": {
    "slideshow": {
     "slide_type": "subslide"
    }
   },
   "source": [
    "#### Advantages\n",
    "\n",
    "* intuitively that's what an Ansatz is: a (parameterized) gate\n",
    "* provides some required functionalities: allows setting of parameters as list, can be controlled, repeated, etc. \n",
    "* no registers bound to it\n",
    "* stores parameters as `list`, setting parameters by `list[float | Parameter]` is straightforward\n",
    "* a `construct_circuit` method makes sense and is maybe missing anyways (or `to_circuit`)"
   ]
  },
  {
   "cell_type": "markdown",
   "metadata": {
    "slideshow": {
     "slide_type": "subslide"
    }
   },
   "source": [
    "#### Technical Issues\n",
    "\n",
    "* how to insert barriers or new gates at arbitrary positions?\n",
    "* need to implement the appending of new gates/instructions (use `definition`?)"
   ]
  },
  {
   "cell_type": "markdown",
   "metadata": {
    "slideshow": {
     "slide_type": "fragment"
    }
   },
   "source": [
    "#### Design Issues\n",
    "\n",
    "* inserts another level of inheritance (or maybe just use `Gate` as component?)"
   ]
  },
  {
   "cell_type": "markdown",
   "metadata": {
    "slideshow": {
     "slide_type": "slide"
    }
   },
   "source": [
    "### Implementation proposal #3: `list[Gate]`\n",
    "\n",
    "Base an Ansatz on a list of `Gate`s or `Instruction`s (each item with a set of qubit indices)."
   ]
  },
  {
   "cell_type": "markdown",
   "metadata": {
    "slideshow": {
     "slide_type": "subslide"
    }
   },
   "source": [
    "#### Advantages\n",
    "\n",
    "* natural implementation of repeating layers\n",
    "* appending new instructions is trivial\n",
    "* combining two Ansaetze is straightforward (just merge the Instruction lists)\n",
    "* design fits the expectation of a variational form and feature map: repeated layers of instructions\n",
    "* barriers are easily inserted in between the layers"
   ]
  },
  {
   "cell_type": "markdown",
   "metadata": {
    "slideshow": {
     "slide_type": "subslide"
    }
   },
   "source": [
    "#### Technical Issues\n",
    "\n",
    "* same issue as with `Gate`s to insert a new instruction somewhere inside a layer"
   ]
  },
  {
   "cell_type": "markdown",
   "metadata": {
    "slideshow": {
     "slide_type": "fragment"
    }
   },
   "source": [
    "#### Design Issues\n",
    "\n",
    "* ?"
   ]
  },
  {
   "cell_type": "markdown",
   "metadata": {
    "slideshow": {
     "slide_type": "slide"
    }
   },
   "source": [
    "### Conclusion\n",
    "\n",
    "#1 (`QuantumCircuit`) is probably not suitable, compared to the advantages of #2 (`Gate`) and #3 (`list[Gate]`)."
   ]
  },
  {
   "cell_type": "markdown",
   "metadata": {
    "slideshow": {
     "slide_type": "slide"
    }
   },
   "source": [
    "### Pseudo-code: #2 (`Gate`)\n",
    "\n",
    "#### To-do\n",
    "\n",
    "* `num_qubits`"
   ]
  },
  {
   "cell_type": "code",
   "execution_count": null,
   "metadata": {
    "slideshow": {
     "slide_type": "fragment"
    }
   },
   "outputs": [],
   "source": [
    "class Ansatz(Gate):\n",
    "    def __init__(self, layers, repeat, final_layer):\n",
    "        # repeat layers and add to self.definition\n",
    "\n",
    "    def construct_circuit(params=None, parameter_prefix=default_prefix, insert_barriers=False):\n",
    "        circuit = QuantumCircuit(self.num_qubits)\n",
    "        # if insert_barriers: iterate over self.definition and add barriers in between layers\n",
    "        # else: just append self to circuit\n",
    "        # set parameters (and create them according to parameter_prefix, if none are given)\n",
    "        return circuit\n",
    "    \n",
    "    def combine(other, connection_indices=None):  # for Ansatz + Ansatz at special indices\n",
    "        # if connection_indices are given, adjust the qargs of other\n",
    "        # merge the definitions of self and other to a third Ansatz \n",
    "        # ensure other attributes are properly set and return\n",
    "    \n",
    "    def __add__(other):  # for Ansatz + Ansatz\n",
    "        return self.combine(other)\n",
    "    \n",
    "    def add(instruction, indices=None, position=end):  # to add a new instruction\n",
    "        # insert (instruction, indices) at position at self.definition\n",
    "\n",
    "    def insert_at_param(target_param, instruction, indices=None):   # to insert after/before a certain parameter\n",
    "        # TODO"
   ]
  },
  {
   "cell_type": "markdown",
   "metadata": {
    "slideshow": {
     "slide_type": "subslide"
    }
   },
   "source": [
    "#### Conclusion\n",
    "\n",
    "Suitable. \n",
    "\n",
    "#### Problems\n",
    "\n",
    "* How to implement `insert_at_param`? "
   ]
  },
  {
   "cell_type": "markdown",
   "metadata": {
    "slideshow": {
     "slide_type": "slide"
    }
   },
   "source": [
    "### Pseudo-code: #3 (`list[Gate]`)"
   ]
  },
  {
   "cell_type": "code",
   "execution_count": null,
   "metadata": {
    "slideshow": {
     "slide_type": "subslide"
    }
   },
   "outputs": [],
   "source": [
    "class Ansatz():\n",
    "    def __init__(self, layers, repeat, final_layer):\n",
    "        # repeat layers and add to self._layers\n",
    "        self._layers = []\n",
    "\n",
    "    def construct_circuit(params=None, parameter_prefix=default_prefix, insert_barriers=False):\n",
    "        circuit = QuantumCircuit(self.num_qubits)\n",
    "        for layer in self._layers:\n",
    "            # append to circuit, insert_barrier if necessary\n",
    "            \n",
    "        # set parameters (and create them according to parameter_prefix, if none are given)\n",
    "        return circuit\n",
    "    \n",
    "    def combine(other, connection_indices=None):  # for Ansatz + Ansatz at special indices\n",
    "        # if connection_indices are given, adjust the qargs of other\n",
    "        # merge the definitions of self and other to a third Ansatz \n",
    "        # ensure other attributes are properly set and return\n",
    "    \n",
    "    def __add__(other):  # for Ansatz + Ansatz\n",
    "        return self.combine(other)\n",
    "    \n",
    "    def add(instruction, indices=None, position=end):  # to add a new instruction\n",
    "        # insert (instruction, indices) at position at self.definition\n",
    "\n",
    "    def insert_at_param(target_param, instruction, indices=None):   # to insert after/before a certain parameter\n",
    "        # TODO"
   ]
  },
  {
   "cell_type": "markdown",
   "metadata": {
    "slideshow": {
     "slide_type": "subslide"
    }
   },
   "source": [
    "#### Conclusion\n",
    "\n",
    "This is essentially a Instruction wrapping Instructions. But since an Instruction can already contain others, we can simply stick with Scenario #2. \n",
    "\n",
    "More detail: If we add all instructions in the initializer `layers` to the definition of the `Gate`, thats equivalent to keeping a list of these instructions. Introducing `Ansatz` in this way is as obsolete the `InstructionSet` in Terra. \n",
    "\n",
    "#### Problems\n",
    "\n",
    "* How to implement `insert_at_param`? "
   ]
  },
  {
   "cell_type": "markdown",
   "metadata": {
    "slideshow": {
     "slide_type": "slide"
    }
   },
   "source": [
    "## Result\n",
    "\n",
    "Slight preference for design #2: The Ansatz as Gate, i.e. `class Ansatz(Gate)`.\n",
    "\n",
    "Reasons:\n",
    "* conceptually the most sensible\n",
    "* some functionality exists already\n",
    "* doesn't rebuild the deprecated `InstructionSet`\n",
    "\n",
    "However design #3, where the Ansatz holds a list of gates, also is a very suitable design."
   ]
  },
  {
   "cell_type": "markdown",
   "metadata": {
    "slideshow": {
     "slide_type": "slide"
    }
   },
   "source": [
    "## Variational forms <a id='varforms'></a>\n",
    "\n",
    "![](img/ansatz_varform_scheme.pdf)"
   ]
  },
  {
   "cell_type": "markdown",
   "metadata": {
    "slideshow": {
     "slide_type": "subslide"
    }
   },
   "source": [
    "### Backward compatibility\n",
    "\n",
    "Does Ansatz provide all functionalities of the current `VariationalForm`? "
   ]
  },
  {
   "cell_type": "markdown",
   "metadata": {
    "slideshow": {
     "slide_type": "fragment"
    }
   },
   "source": [
    "Almost.\n",
    "\n",
    "Missing:\n",
    "* `setting(self)`\n",
    "* `support_parameterized_circuit(self)`\n",
    "* `parameter_bounds(self)`\n",
    "* `depth`"
   ]
  },
  {
   "cell_type": "markdown",
   "metadata": {
    "slideshow": {
     "slide_type": "subslide"
    }
   },
   "source": [
    "#### `setting`\n",
    "\n",
    "Prints the `CONFIGURATION` plus `self.__dict__`. Is this necessary? \n",
    "\n",
    "If yes, this is easily added to the `Ansatz` and might make sense for debug purposes."
   ]
  },
  {
   "cell_type": "markdown",
   "metadata": {
    "slideshow": {
     "slide_type": "subslide"
    }
   },
   "source": [
    "#### `support_parameterized_circuit`\n",
    "\n",
    "This is true when [ask kevin when exactly]. If the transpiler cannot check this automatically, this can be added to Ansatz. Either let the user set it, or check all gates for compatibility and set automatically."
   ]
  },
  {
   "cell_type": "markdown",
   "metadata": {
    "slideshow": {
     "slide_type": "subslide"
    }
   },
   "source": [
    "#### `parameter_bounds`\n",
    "\n",
    "The `VQAlgorithm` expects a variational form to have this parameter. The bounds are then used for the optimization. Since not all optimizers however accept bounds this raises a design issue: Setting parameter bounds for a variational form suggests, that the variational form will enforce these bounds. That's not correct. \n",
    "\n",
    "A more correct behaviour would be to feed the parameter bounds to the optimizer directly and remove this member from the variational forms. This is especially true since the `VQAlgorithm` is only one application of variational forms and they are much more widely used.\n",
    "\n",
    "Thus, this member should not be added to `Ansatz` but this requires changes in the `VQAlgorithm`."
   ]
  },
  {
   "cell_type": "markdown",
   "metadata": {
    "slideshow": {
     "slide_type": "subslide"
    }
   },
   "source": [
    "#### `depth`\n",
    "\n",
    "This equals the `repeat` keyword of `Ansatz`. Maybe we should rename `repeat` to `depth`. In favour of renaming: the `FeatureMap`s also take a `depth` keyword.\n",
    "\n",
    "Hence, rename `repeat` to `depth` and implement a corresponding property."
   ]
  },
  {
   "cell_type": "markdown",
   "metadata": {
    "slideshow": {
     "slide_type": "slide"
    }
   },
   "source": [
    "## TwoLocalGateAnsatz"
   ]
  },
  {
   "cell_type": "markdown",
   "metadata": {
    "slideshow": {
     "slide_type": "subslide"
    }
   },
   "source": [
    "### Requirement recap\n",
    "\n",
    "Input: number of qubits, one qubit gate(s), two qubit gate(s), depth, entanglement, skip_unentangled_qubits, skip_final_rotation, (initial state?)\n",
    "\n",
    "Output: the variational form"
   ]
  },
  {
   "cell_type": "markdown",
   "metadata": {
    "slideshow": {
     "slide_type": "subslide"
    }
   },
   "source": [
    "### Implementation proposal\n",
    "\n",
    "Use the initializer to set up the rotation and entanglement layers, provided with the single- and two-qubit gates. Incorporate functionalities to set the entangler map. "
   ]
  },
  {
   "cell_type": "markdown",
   "metadata": {
    "slideshow": {
     "slide_type": "subslide"
    }
   },
   "source": [
    "### Pseudo-code"
   ]
  },
  {
   "cell_type": "code",
   "execution_count": null,
   "metadata": {
    "slideshow": {
     "slide_type": "fragment"
    }
   },
   "outputs": [],
   "source": [
    "class TwoLocalGateAnsatz(Ansatz):\n",
    "    def __init__(self, num_qubits, single_qubit_gate=None, two_qubit_gate=None, depth=default_depth,\n",
    "                 entanglement=default_entanglement, initial_state=None):\n",
    "        # verify single and two qubit gates, probably use static method\n",
    "        for block_number in range(depth):\n",
    "            # use self.add() with get_rotation_layer() and get_entanglement_layer() to add the layers\n",
    "        # add final layer\n",
    "        \n",
    "    def _get_rotation_layer(self, block_number):\n",
    "        # return the rotation layer as instruction\n",
    "        \n",
    "    def _get_entanglement_layer(self, block_number):\n",
    "        # return the entanglement layer as instruction\n",
    "    \n",
    "    @property\n",
    "    def single_qubit_gate(self):  # same for two_qubit_gate\n",
    "        # return single qubit gate\n",
    "        \n",
    "    @staticmethod\n",
    "    def verify_gate(self, gate, kind='single'):\n",
    "        # if gate is str, return gate, otherwise check that single or two qubit gate\n",
    "        \n",
    "    def get_entangler_map(self, block_number=0):\n",
    "        # use self._entanglement and block_number to return the correct entangler_map"
   ]
  },
  {
   "cell_type": "markdown",
   "metadata": {
    "slideshow": {
     "slide_type": "subslide"
    }
   },
   "source": [
    "#### Potential issues\n",
    "\n",
    "* `get_entangler_map` is no static method anymore\n",
    "* `validate_entangler_map` doens't exist anymore"
   ]
  },
  {
   "cell_type": "markdown",
   "metadata": {
    "slideshow": {
     "slide_type": "subslide"
    }
   },
   "source": [
    "#### Points to discuss\n",
    "\n",
    "* Should the keywords `entanglement` and `entangler_map` be merged to `entanglement`?\n",
    "* Is the `initial_state` keyword necessary?"
   ]
  },
  {
   "cell_type": "markdown",
   "metadata": {
    "slideshow": {
     "slide_type": "subslide"
    }
   },
   "source": [
    "Should the keywords `entanglement` and `entangler_map` be merged to `entanglement`?"
   ]
  },
  {
   "cell_type": "markdown",
   "metadata": {
    "slideshow": {
     "slide_type": "fragment"
    }
   },
   "source": [
    "#### Pro\n",
    "\n",
    "* The user doesn't need to think about which keyword he needs to use for the entanglement input, whether it is specified via string or pairs of qubits.\n",
    "* Assume we add a new possible input type, e.g. `Callable`. Then we would require yet another keyword and choose which keyword is actually active if multiple are set. With one keyword only, we just have to add an `isinstance` if-statement (which we anyways need).\n",
    "* Having multiple keywords forces the code to decide which keyword overrules which. This can be opaque to the user. If we don't enforce a \"keyword hierarchy\", we could throw errors if multiple are set. And nobody likes runtime errors (see PEP [which number again?]). "
   ]
  },
  {
   "cell_type": "markdown",
   "metadata": {
    "slideshow": {
     "slide_type": "fragment"
    }
   },
   "source": [
    "#### Contra\n",
    "\n",
    "* The signature doesn't clearly show what input types of entanglement exist. (Then again, there is such a thing as documentation strings.)"
   ]
  },
  {
   "cell_type": "markdown",
   "metadata": {
    "slideshow": {
     "slide_type": "subslide"
    }
   },
   "source": [
    "**Conclusion** Yes, merge `entanglement` and `entangler_map` in `entanglement`."
   ]
  },
  {
   "cell_type": "markdown",
   "metadata": {
    "slideshow": {
     "slide_type": "slide"
    }
   },
   "source": [
    "## Standard variational forms<a id='standard_varforms'></a>\n",
    "\n",
    "Such forms as `RY` or `RYRZ`."
   ]
  },
  {
   "cell_type": "markdown",
   "metadata": {
    "slideshow": {
     "slide_type": "subslide"
    }
   },
   "source": [
    "### Implementation proposal #1\n",
    "\n",
    "As subclass of `TwoLocalGateAnsatz`."
   ]
  },
  {
   "cell_type": "markdown",
   "metadata": {
    "slideshow": {
     "slide_type": "subslide"
    }
   },
   "source": [
    "#### Advantages\n",
    "\n",
    "* super easy to implement\n",
    "* natural: specification of two local gate ansatz by fixing the single qubit gate and providing a default two qubit gate"
   ]
  },
  {
   "cell_type": "markdown",
   "metadata": {
    "slideshow": {
     "slide_type": "fragment"
    }
   },
   "source": [
    "#### Issues\n",
    "\n",
    "* adds another level of inheritance\n",
    "* `RY(Ansatz)` is elegant to read, since `RY` is just an Ansatz"
   ]
  },
  {
   "cell_type": "markdown",
   "metadata": {
    "slideshow": {
     "slide_type": "subslide"
    }
   },
   "source": [
    "### Implementation proposal #2\n",
    "\n",
    "As subclass of `Ansatz`, using `TwoLocalGateAnsatz` as component."
   ]
  },
  {
   "cell_type": "markdown",
   "metadata": {
    "slideshow": {
     "slide_type": "subslide"
    }
   },
   "source": [
    "#### Advantages\n",
    "\n",
    "* `RY(Ansatz)` is intuitive to read\n",
    "* no new level of inheritance"
   ]
  },
  {
   "cell_type": "markdown",
   "metadata": {
    "slideshow": {
     "slide_type": "fragment"
    }
   },
   "source": [
    "#### Issues\n",
    "\n",
    "* probably need to wrap all functions of `TwoLocalGateAnsatz`"
   ]
  },
  {
   "cell_type": "markdown",
   "metadata": {
    "slideshow": {
     "slide_type": "subslide"
    }
   },
   "source": [
    "### Conclusion\n",
    "\n",
    "Inheritance is easier to implement and reading `RY(TwoLocalGateAnsatz)` is still comprehensible.\n",
    "Therefore, choose inheritance over composition."
   ]
  },
  {
   "cell_type": "markdown",
   "metadata": {
    "slideshow": {
     "slide_type": "fragment"
    }
   },
   "source": [
    "Or is there an easy way for using composition, that we missed?"
   ]
  },
  {
   "cell_type": "markdown",
   "metadata": {
    "slideshow": {
     "slide_type": "subslide"
    }
   },
   "source": [
    "### Pseudo-code"
   ]
  },
  {
   "cell_type": "code",
   "execution_count": null,
   "metadata": {
    "slideshow": {
     "slide_type": "fragment"
    }
   },
   "outputs": [],
   "source": [
    "class RY(TwoLocalGateAnsatz):\n",
    "    def __init__(self, ...):  # repeat all keywords here to enable IDE detection\n",
    "        super().__init__(single_qubit_gate='ry', ...)"
   ]
  },
  {
   "cell_type": "code",
   "execution_count": null,
   "metadata": {
    "slideshow": {
     "slide_type": "fragment"
    }
   },
   "outputs": [],
   "source": [
    "class RYRZ(TwoLocalGateAnsatz):\n",
    "    def __init__(self, ...):\n",
    "        super().__init__(single_qubit_gate=['ry', 'rz'], ...)"
   ]
  },
  {
   "cell_type": "markdown",
   "metadata": {
    "slideshow": {
     "slide_type": "slide"
    }
   },
   "source": [
    "## Feature maps <a id='featmaps'></a>\n",
    "\n",
    "![](img/ansatz_featmap_scheme.pdf)"
   ]
  },
  {
   "cell_type": "markdown",
   "metadata": {
    "slideshow": {
     "slide_type": "subslide"
    }
   },
   "source": [
    "### Backward compatibility\n",
    "\n",
    "Does Ansatz provide all functionalities of the current `FeatureMap`? "
   ]
  },
  {
   "cell_type": "markdown",
   "metadata": {
    "slideshow": {
     "slide_type": "fragment"
    }
   },
   "source": [
    "Yes -- except `self.feature_dimension`."
   ]
  },
  {
   "cell_type": "markdown",
   "metadata": {
    "slideshow": {
     "slide_type": "subslide"
    }
   },
   "source": [
    "#### `feature_dimension`\n",
    "\n",
    "Possible solutions include\n",
    "\n",
    "* New intermediate class called `FeatureMap(Ansatz)`: An additional class for just one new method, that exists under another name, is not really justified.\n",
    "\n",
    "* Add the method `feature_dimension` to `Ansatz`: If Ansatz used as variational form this method remains unused.\n",
    "\n",
    "* Deprecate `feature_dimension`, use `num_parameters` instead: Deprecating `feature_dimension` is probably not a good idea, since it is a legitimate attribute of a feature map."
   ]
  },
  {
   "cell_type": "markdown",
   "metadata": {
    "slideshow": {
     "slide_type": "fragment"
    }
   },
   "source": [
    "**Conclusion** The best solution seems to be adding the `feature_dimension` method to `Ansatz`."
   ]
  },
  {
   "cell_type": "markdown",
   "metadata": {
    "slideshow": {
     "slide_type": "subslide"
    }
   },
   "source": [
    "### Implementation proposal\n",
    "\n",
    "The hierarchy within the feature map branch should be the same as for variational forms. Meaning, we implement a `PauliExpression` and the specialized classes as derived objects. This design is also the current form."
   ]
  },
  {
   "cell_type": "markdown",
   "metadata": {
    "slideshow": {
     "slide_type": "fragment"
    }
   },
   "source": [
    "However -- is the additional layer `PauliZExpansion` truly necessary?"
   ]
  },
  {
   "cell_type": "code",
   "execution_count": null,
   "metadata": {
    "slideshow": {
     "slide_type": "fragment"
    }
   },
   "outputs": [],
   "source": [
    "def __init__(self, feature_dimension, depth=2, entangler_map=None, entanglement='full', z_order=2, \n",
    "            data_map_func=self_product):\n",
    "    self.validate(locals())\n",
    "    pauli_string = []\n",
    "    for i in range(1, z_order + 1):\n",
    "        pauli_string.append('Z' * i)\n",
    "    super().__init__(feature_dimension, depth, entangler_map, entanglement, paulis=pauli_string, \n",
    "                     data_map_func=data_map_func)"
   ]
  },
  {
   "cell_type": "markdown",
   "metadata": {},
   "source": [
    "#### Pro\n",
    "\n",
    "* simplifies the definition of Pauli Z expansion feature maps (such as `First/SecondOrderExpansion`)"
   ]
  },
  {
   "cell_type": "markdown",
   "metadata": {},
   "source": [
    "#### Contra\n",
    "\n",
    "* introduces an additional layer of inheritance\n",
    "* if `First/SecondOrderExpansion` is the main motivation for this class, then the two minor changes they introduce is probably not worth introducing the `PauliZExpansion`"
   ]
  },
  {
   "cell_type": "code",
   "execution_count": null,
   "metadata": {},
   "outputs": [],
   "source": []
  }
 ],
 "metadata": {
  "celltoolbar": "Slideshow",
  "kernelspec": {
   "display_name": "latest",
   "language": "python",
   "name": "latest"
  },
  "language_info": {
   "codemirror_mode": {
    "name": "ipython",
    "version": 3
   },
   "file_extension": ".py",
   "mimetype": "text/x-python",
   "name": "python",
   "nbconvert_exporter": "python",
   "pygments_lexer": "ipython3",
   "version": "3.7.5"
  }
 },
 "nbformat": 4,
 "nbformat_minor": 2
}
