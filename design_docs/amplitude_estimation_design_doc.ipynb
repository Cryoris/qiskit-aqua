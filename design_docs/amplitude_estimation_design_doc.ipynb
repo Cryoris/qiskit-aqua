{
 "cells": [
  {
   "cell_type": "markdown",
   "metadata": {},
   "source": [
    "# Amplitude Estimation Refactor\n",
    "\n",
    "Note on this design doc: First motivate new features and changes of current implementations. Then discuss a possible implementation for each feature. If multiple designs are feasible, discuss these and present a final suggestion."
   ]
  },
  {
   "cell_type": "markdown",
   "metadata": {},
   "source": [
    "# Motivation\n",
    "\n",
    "What features are we currently missing? What's too complicated to use? Is anything implemented in an inefficient manner?"
   ]
  },
  {
   "cell_type": "markdown",
   "metadata": {},
   "source": [
    "### Generalization of the input operators \n",
    "\n",
    "The goal of AE is to approximate the amplitude $a$ of the so-called 'good' states, encoded in an operator A:\n",
    "\n",
    "$$\n",
    "A|0> = \\sqrt{1 - a} |\\psi_0> |0> + \\sqrt{a} |\\psi_1> |1>\n",
    "$$\n",
    "\n",
    "For this, we set up a secondary operator $Q = A S_0 A^{-1} S_{\\psi_0}$, where $S_0$ flips about the $|0\\rangle$ state and $S_{\\psi_0}$ about the 'bad' state. In principle, providing the $A$ operator suffices to run AE, since we can build $Q$ ourselves by implicitely assuming that the 'good' state is marked by the state $|1\\rangle$ in the last qubit.\n",
    "However, that is a restrictive design and the 'good' state can be far more general. Also, depending on the hardware, we might know a more efficient implementation of S_0 than the default one. That argument also holds for the $Q$ operator, which can in some cases be massively simplified. (ref. Bernoulli A Operator).\n",
    "\n",
    "\n",
    "Therefore, we should be able to set the operators $S_0$, $S_{\\psi_0}$ and $Q$ manually. For the $Q$ operator that's currently possible, but we should also allow this for the $S$ operators."
   ]
  },
  {
   "cell_type": "code",
   "execution_count": null,
   "metadata": {},
   "outputs": [],
   "source": [
    "ae = AmplitudeEstimation(..., i_objective=1)\n",
    "ae = AmplitudeEstimation(..., i_objective=[1,2,5])\n",
    "ae = AmplitudeEstimation(..., S_psi=objective_oracle)"
   ]
  },
  {
   "cell_type": "markdown",
   "metadata": {},
   "source": [
    "QPE-free variants may require a filter function, specifying what measurement outcomes are 'good'."
   ]
  },
  {
   "cell_type": "code",
   "execution_count": null,
   "metadata": {},
   "outputs": [],
   "source": [
    "ae = MaximumLikelihoodAmplitudeEstimation(..., measurement_qubits=[1, 2, 5], objective_filter=good_state_requirement)"
   ]
  },
  {
   "cell_type": "markdown",
   "metadata": {},
   "source": [
    "In this scenario, `good_state_requirement` takes (a list of) 3 bits, since we measure 3 qubits, and returns a boolean/binary output."
   ]
  },
  {
   "cell_type": "markdown",
   "metadata": {},
   "source": [
    "### Progressive execution \n",
    "\n",
    "To run algorithms on real hardware it may be necessary to (manually) optimize the circuits or re-run them several times to find the best settings. Therefore, algorithms should be able to yield the circuits they execute, let us optimize & execute them to then plug the execution result back into the algorithm. For iterative algorithms this should be possible for every single iteration. This is optional and we may want to choose which iterations are done automatically and which we want to analyze in detail or run manually. Thus, an algorithm should have a state that can be read and set as appropriate combined with a method to run a single iteration given the state."
   ]
  },
  {
   "cell_type": "markdown",
   "metadata": {},
   "source": [
    "### Type of the input operators \n",
    "\n",
    "In the circuit for AE, we require controlled versions of the $A$ operator (and $S$, $Q$), powers of it and controlled powers. \n",
    "Since in the earlier Qiskit, we had no object to handily provide these versions, the `CircuitFactory` type has been introduced. \n",
    "Given an implementation of the abstract `build` function, that constructs a quantum circuit, the `CircuitFactory` provides powers, controlled powers, inverses, etc. of that circuit. \n",
    "As these features are now provided with Terra's `Gate` class, the `CircuitFactory` is obsolete and should be deprecated. \n",
    "Instead, we can use the `Gate`.\n",
    "This avoids the duplicate implementation of the same functionality and gives the user one less type to learn about. \n",
    "\n",
    "Note, that the `CircuitFactory` is only used in AE and for `UncertaintyModels/Problems` -- which in turns have been created (mostly? only?) for AE."
   ]
  },
  {
   "cell_type": "markdown",
   "metadata": {},
   "source": [
    "### Result object\n",
    "\n",
    "This is coming anyways, just as a note: All AE-type algorithms should return a `AmplitudeEstimationResult` instead of a dict.  "
   ]
  },
  {
   "cell_type": "markdown",
   "metadata": {},
   "source": [
    "### Parallel execution \n",
    "\n",
    "Algorithms that can execute multiple circuits in parallel should do this to speedup the computation. Currently, this affects only MLAE."
   ]
  },
  {
   "cell_type": "markdown",
   "metadata": {},
   "source": [
    "### Summary\n",
    "\n",
    "* allow the manual execution of circuits in each iteration\n",
    "* accept a general $S_{\\psi_0}$ operator to detect good/bad states\n",
    "* use a results object\n",
    "* run circuits in parallel, where possible"
   ]
  },
  {
   "cell_type": "markdown",
   "metadata": {},
   "source": [
    "# Possible implementations\n",
    "\n",
    "This section discusses possible implementations of the requirements motivated in the previous section. If multiple implementations seem feasible, they should be mentioned and discussed. More possible versions can be added."
   ]
  },
  {
   "cell_type": "markdown",
   "metadata": {},
   "source": [
    "### Generalized input \n",
    "\n",
    "The current inheritance structure can be kept. The `AmplitudeEstimationAlgorithm` base class should manage all possible inputs for the different $A$, $Q$ and $S$ operators. If an algorithm has restrictions on these operators, this can be handled in the individual initializers.\n",
    "With this design, we spare a lot of copy+paste and as compared to implementing all inputs for all types of AE algorithms. "
   ]
  },
  {
   "cell_type": "markdown",
   "metadata": {},
   "source": [
    "### Progressive execution:\n",
    "\n",
    "To allow the progressive executions, the current implementations of `_run` are not suitable."
   ]
  },
  {
   "cell_type": "markdown",
   "metadata": {},
   "source": [
    "#### Design 1 \n",
    "\n",
    "Since in every iteration, the circuits are created via `construct_circuit` and then the information processed, divide the running of an algorithm explicitely in the three steps: \n",
    "construct the circuit, process the outcome, check the termination. \n",
    "Every iteration calls these three functions. \n",
    "The user can intervene at any point by requesting the circuit and feeding the outcome into the process function. \n",
    "\n",
    "While the default way should still be supported:"
   ]
  },
  {
   "cell_type": "code",
   "execution_count": null,
   "metadata": {},
   "outputs": [],
   "source": [
    "ae = AE(...)\n",
    "result = ae.run()"
   ]
  },
  {
   "cell_type": "markdown",
   "metadata": {},
   "source": [
    "The progressive execution could look something like this:"
   ]
  },
  {
   "cell_type": "code",
   "execution_count": null,
   "metadata": {},
   "outputs": [],
   "source": [
    "ae = AE(...)\n",
    "ae.initialize()  # initializes / clears the algorithm's state\n",
    "\n",
    "# example iteration loop, can be changed as appropriate\n",
    "for _ in range(num_iterations):  \n",
    "    # get the current state of the algorithm and the circuits to be executed\n",
    "    state = ae.get_state()  # returns a dictionary with relevant properties\n",
    "    circuits = ae.get_circuits(state['x'], state['y'], ...)  # may be a single circuit or a set of circuits\n",
    "    \n",
    "    # run the job manually -- hardware specific changes or other tuning possible\n",
    "    job = execute(circuits, ...)\n",
    "    results = job.results()\n",
    "    \n",
    "    # update state based on results and previous state\n",
    "    # possibly, this could return True/False based on the termination criterion of the iterative algorithm\n",
    "    ae.process_results(results, state['x', prop['y'], ...]) \n",
    "\n",
    "result = ae.finalize()  # perform whatever post-processing may be necessary"
   ]
  },
  {
   "cell_type": "markdown",
   "metadata": {},
   "source": [
    "Note, that for non-iterative algorithms, i.e. all circuits to be executed are known, the manual execution would look the same way, except leaving out the for-loop."
   ]
  },
  {
   "cell_type": "markdown",
   "metadata": {},
   "source": [
    "To be able to yield the next circuit of the iteration, the algorithm must know the current iteration state. This could be handled by a `iteration_state` dict/object. Other possibilities would a set of private members (code explosion, no differentiation between state variables and others) or a new class (overkill, confusing, does the same job as a dict)."
   ]
  },
  {
   "cell_type": "markdown",
   "metadata": {},
   "source": [
    "##### Advantages\n",
    "\n",
    "* modular execution of each step\n",
    "\n",
    "\n",
    "##### Issues \n",
    "\n",
    "* need to introduce new methods, we need to ensure these are not confusing to the user\n",
    "iterative and non-iterative algorithms have slightly different interfaces (bc of `run_iteration`)"
   ]
  },
  {
   "cell_type": "markdown",
   "metadata": {},
   "source": [
    "#### Conclusion\n",
    "\n",
    "For the iterative algorithms, implement a `run_iteration` function, that either runs an iteration with the quantum instance provided to `run` or accepts a simulation result from the current circuit. This circuit can be obtained via `construct_next_circuit`. \n",
    "For non-iterative algorithms, let `run` accept a circuit result. This circuit can obtained from `construct_circuit`."
   ]
  },
  {
   "cell_type": "markdown",
   "metadata": {},
   "source": [
    "### Type of input operators\n",
    "\n",
    "Problems arising from removing the `CircuitFactory`:\n",
    "How to do the c-scaling, which currently was done via the `value_to_estimation` method of the A `CircuitFactory`?\n",
    "the `CircuitFactory` knew the number of required ancillas. \n",
    "How do we handle this with a `Gate`? What order of qubits of state and ancilla and objective qubits do we impose? (currently `i_objective`, `i_state`, `i_ancillas`)"
   ]
  },
  {
   "cell_type": "markdown",
   "metadata": {},
   "source": [
    "#### Design 1: Operators are Gates\n",
    "\n",
    "Provide the $A$/$Q$/$S$ operators as `Gate` and separately a function `value_to_estimation`. Impose a fixed ordering of the qubit indices for state qubits, ancillas and objective qubit. In this design, generating the $Q$ operator from the $A$ operator would be done in a utility function.\n",
    "\n",
    "#### Design 2: Operators derived from Gates\n",
    "\n",
    "Use a new class `AOperator` (or similar), holding a `Gate` and providing the required extra functionality. In this design, the $Q$ operator could be another class, accepting an `AOperator` in the initializer (as it is now)"
   ]
  },
  {
   "cell_type": "markdown",
   "metadata": {},
   "source": [
    "#### Discussion & Conclusion\n",
    "\n",
    "| Design 1 | Design 2 |\n",
    "| -----------| ------------|\n",
    "| + No new classes | - New intermediate classes required | \n",
    "| + More flexibility in the inputs for AE | + All required information sits in one place |\n",
    "| - Implicit qubit ordering needed | + Lots of flexibility in the implementation |\n",
    "| - New utility functions required | + Similar to current structure | \n",
    "\n",
    "Both versions are possible, though new `A/QOperator` classes might be more elegant and easier to maintain. It would be possible to allow also a `Gate` as $A$ operator instead of an `AOperator` instance to allow more general input and make the use of AE simpler."
   ]
  },
  {
   "cell_type": "markdown",
   "metadata": {},
   "source": [
    "### Result object\n",
    "\n",
    "All AE algorithms must set certain fixed members of the results object, these include\n",
    "* `estimate` / `estimation`\n",
    "* `a_estimate` / `a_value` / `value`\n",
    "\n",
    "\n",
    "Optionally, if possible, extend by these keywords\n",
    "* `num_oracle_calls`\n",
    "* `confidence_interval` (of some confidence level)\n",
    "\n",
    "\n",
    "Plus some algorithm specific attributes. Theses can for instance be histories of certain internal variables. Maybe use a separate history dictionary to encapsulate the information. \n",
    "The history could then be enable using a particular flag, and optionally be dumped to a file, which can be very convenient for testing and debugging. If algorithm states would be used, the whole state could be saved."
   ]
  },
  {
   "cell_type": "markdown",
   "metadata": {},
   "source": [
    "### Parallel execution\n",
    "\n",
    "Construct all circuits at once and execute them jointly. "
   ]
  },
  {
   "cell_type": "code",
   "execution_count": 35,
   "metadata": {},
   "outputs": [],
   "source": [
    "from qiskit import QuantumCircuit, transpile\n",
    "from qiskit.circuit import Instruction, Gate"
   ]
  },
  {
   "cell_type": "code",
   "execution_count": 14,
   "metadata": {},
   "outputs": [],
   "source": [
    "class AOperator(Gate):\n",
    "    def __init__(self):\n",
    "        pass\n",
    "    \n",
    "    def define(self, qc):\n",
    "        gate = qc.to_gate()\n",
    "        super().__init__(gate.name, gate.num_qubits, gate.params, gate.label)\n",
    "        self.definition = gate.definition"
   ]
  },
  {
   "cell_type": "code",
   "execution_count": 15,
   "metadata": {},
   "outputs": [
    {
     "data": {
      "text/plain": [
       "<qiskit.circuit.instructionset.InstructionSet at 0x133f7a050>"
      ]
     },
     "execution_count": 15,
     "metadata": {},
     "output_type": "execute_result"
    }
   ],
   "source": [
    "qc = QuantumCircuit(1)\n",
    "qc.x(0)"
   ]
  },
  {
   "cell_type": "code",
   "execution_count": 21,
   "metadata": {},
   "outputs": [],
   "source": [
    "# A operator\n",
    "A = AOperator()\n",
    "qc = QuantumCircuit(1)\n",
    "qc.x(0)\n",
    "A.define(qc)\n",
    "\n",
    "\n",
    "# Q operator (for testing purpose also of type AOperator)\n",
    "Q = AOperator()\n",
    "qc = QuantumCircuit(1)\n",
    "qc.x(0)\n",
    "qc.z(0)\n",
    "Q.define(qc)"
   ]
  },
  {
   "cell_type": "code",
   "execution_count": 31,
   "metadata": {},
   "outputs": [],
   "source": [
    "m = 3\n",
    "i_objective = m\n",
    "ae = QuantumCircuit(m + 1)\n",
    "\n",
    "ae.append(A, qargs=[i_objective])  # A operator\n",
    "\n",
    "# Q operators\n",
    "for mi in range(m):\n",
    "    ae.barrier()\n",
    "    if mi == 0:\n",
    "        ae.append(Q.control(), qargs=[mi, i_objective])\n",
    "    else:\n",
    "        ae.append(Q.repeat(mi).control(), qargs=[mi, i_objective])\n",
    "\n",
    "# iqft = IQFT(m)\n",
    "# ae.append(iqft, qargs=list(range(m)))"
   ]
  },
  {
   "cell_type": "code",
   "execution_count": 32,
   "metadata": {},
   "outputs": [
    {
     "name": "stdout",
     "output_type": "stream",
     "text": [
      "                      ░               ░                 ░                \n",
      "q_0: |0>──────────────░───────■───────░─────────────────░────────────────\n",
      "                      ░       │       ░                 ░                \n",
      "q_1: |0>──────────────░───────┼───────░────────■────────░────────────────\n",
      "                      ░       │       ░        │        ░                \n",
      "q_2: |0>──────────────░───────┼───────░────────┼────────░────────■───────\n",
      "        ┌───────────┐ ░ ┌─────┴─────┐ ░ ┌──────┴──────┐ ░ ┌──────┴──────┐\n",
      "q_3: |0>┤ Circuit18 ├─░─┤ Circuit19 ├─░─┤ Circuit19*1 ├─░─┤ Circuit19*2 ├\n",
      "        └───────────┘ ░ └───────────┘ ░ └─────────────┘ ░ └─────────────┘\n"
     ]
    }
   ],
   "source": [
    "print(ae.draw())"
   ]
  },
  {
   "cell_type": "code",
   "execution_count": 42,
   "metadata": {},
   "outputs": [
    {
     "data": {
      "image/png": "[encoded data removed]",
      "text/plain": [
       "<Figure size 1683.19x1167.88 with 1 Axes>"
      ]
     },
     "execution_count": 42,
     "metadata": {},
     "output_type": "execute_result"
    }
   ],
   "source": [
    "ae.decompose().draw(output='mpl')"
   ]
  },
  {
   "cell_type": "code",
   "execution_count": null,
   "metadata": {},
   "outputs": [],
   "source": []
  }
 ],
 "metadata": {
  "kernelspec": {
   "display_name": "latest",
   "language": "python",
   "name": "latest"
  },
  "language_info": {
   "codemirror_mode": {
    "name": "ipython",
    "version": 3
   },
   "file_extension": ".py",
   "mimetype": "text/x-python",
   "name": "python",
   "nbconvert_exporter": "python",
   "pygments_lexer": "ipython3",
   "version": "3.7.5"
  }
 },
 "nbformat": 4,
 "nbformat_minor": 2
}
